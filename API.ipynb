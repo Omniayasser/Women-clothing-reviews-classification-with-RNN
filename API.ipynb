{
 "cells": [
  {
   "cell_type": "code",
   "execution_count": 1,
   "metadata": {},
   "outputs": [
    {
     "name": "stderr",
     "output_type": "stream",
     "text": [
      "[nltk_data] Downloading package punkt to\n",
      "[nltk_data]     C:\\Users\\lenovo\\AppData\\Roaming\\nltk_data...\n",
      "[nltk_data]   Package punkt is already up-to-date!\n",
      "[nltk_data] Downloading package stopwords to\n",
      "[nltk_data]     C:\\Users\\lenovo\\AppData\\Roaming\\nltk_data...\n",
      "[nltk_data]   Package stopwords is already up-to-date!\n",
      "[nltk_data] Downloading package wordnet to\n",
      "[nltk_data]     C:\\Users\\lenovo\\AppData\\Roaming\\nltk_data...\n",
      "[nltk_data]   Package wordnet is already up-to-date!\n"
     ]
    },
    {
     "name": "stdout",
     "output_type": "stream",
     "text": [
      "Data init Done\n",
      "Data Importing Done\n",
      "Model Training Done\n"
     ]
    }
   ],
   "source": [
    "from flask import Flask,jsonify,request,render_template\n",
    "from API import GBPrediction\n",
    "import numpy as np\n",
    "\n",
    "gb = GBPrediction()\n",
    "app = Flask(\"Prdection\")\n",
    "gb.train()"
   ]
  },
  {
   "cell_type": "code",
   "execution_count": 2,
   "metadata": {},
   "outputs": [],
   "source": [
    "@app.route(\"/\") ## page name \n",
    "def home():\n",
    "    return render_template(\"Home.html\")"
   ]
  },
  {
   "cell_type": "code",
   "execution_count": 3,
   "metadata": {},
   "outputs": [],
   "source": [
    "@app.route(\"/predict\" , methods = [\"POST\"]) ## page name \n",
    "def predict():\n",
    "    url= request.form.get(\"url\")\n",
    "    revs= gb.get_Revs(url,{\"User-Agent\": \"Mozilla/5.0 (Windows NT 10.0; Win64; x64) AppleWebKit/537.36 (KHTML, like Gecko) Chrome/97.0.4692.71 Safari/537.36\",\"X-Amzn-Trace-Id\": \"Root=1-61db3b0c-02e4a63d2b272a5607f39f98\"})\n",
    "    predictions=[]\n",
    "    for rev in revs:\n",
    "        predictions.append(gb.predict(rev)[0])\n",
    "\n",
    "    ans = np.mean(predictions)\n",
    "\n",
    "    if(ans <= 0.5):\n",
    "        return render_template(\"notrec.html\")\n",
    "    elif(ans > 0.5):\n",
    "        return render_template(\"rec.html\")"
   ]
  },
  {
   "cell_type": "code",
   "execution_count": 4,
   "metadata": {},
   "outputs": [],
   "source": [
    "@app.route(\"/dl_predict\" , methods = [\"POST\"]) ## page name \n",
    "def dl_predict():\n",
    "    url= request.form.get(\"url\")\n",
    "    revs= gb.get_Revs(url,{\"User-Agent\": \"Mozilla/5.0 (Windows NT 10.0; Win64; x64) AppleWebKit/537.36 (KHTML, like Gecko) Chrome/97.0.4692.71 Safari/537.36\",\"X-Amzn-Trace-Id\": \"Root=1-61db3b0c-02e4a63d2b272a5607f39f98\"})\n",
    "    dl_predictions=[]\n",
    "    for rev in revs:\n",
    "        dl_predictions.append(gb.dl_predict(rev))\n",
    "    print(dl_predictions)\n",
    "    dl_ans = np.mean(dl_predictions)\n",
    "\n",
    "    if(dl_ans <= 0.5):\n",
    "        return render_template(\"notrec.html\")\n",
    "    elif(dl_ans > 0.5):\n",
    "        return render_template(\"rec.html\")"
   ]
  },
  {
   "cell_type": "code",
   "execution_count": 5,
   "metadata": {},
   "outputs": [
    {
     "name": "stdout",
     "output_type": "stream",
     "text": [
      " * Serving Flask app \"Prdection\" (lazy loading)\n",
      " * Environment: production\n",
      "   WARNING: This is a development server. Do not use it in a production deployment.\n",
      "   Use a production WSGI server instead.\n",
      " * Debug mode: off\n"
     ]
    },
    {
     "name": "stderr",
     "output_type": "stream",
     "text": [
      " * Running on http://127.0.0.1:5000/ (Press CTRL+C to quit)\n",
      "127.0.0.1 - - [12/Jan/2022 12:17:29] \"\u001b[37mGET / HTTP/1.1\u001b[0m\" 200 -\n",
      "127.0.0.1 - - [12/Jan/2022 12:17:53] \"\u001b[37mPOST /dl_predict HTTP/1.1\u001b[0m\" 200 -\n"
     ]
    },
    {
     "name": "stdout",
     "output_type": "stream",
     "text": [
      "[array([[0.5733292]], dtype=float32), array([[0.6358611]], dtype=float32)]\n"
     ]
    },
    {
     "name": "stderr",
     "output_type": "stream",
     "text": [
      "127.0.0.1 - - [12/Jan/2022 12:17:58] \"\u001b[37mGET / HTTP/1.1\u001b[0m\" 200 -\n",
      "127.0.0.1 - - [12/Jan/2022 12:18:05] \"\u001b[37mPOST /predict HTTP/1.1\u001b[0m\" 200 -\n",
      "127.0.0.1 - - [12/Jan/2022 12:18:06] \"\u001b[37mGET / HTTP/1.1\u001b[0m\" 200 -\n"
     ]
    }
   ],
   "source": [
    "app.run()"
   ]
  },
  {
   "cell_type": "code",
   "execution_count": null,
   "metadata": {},
   "outputs": [],
   "source": []
  }
 ],
 "metadata": {
  "interpreter": {
   "hash": "7825fd8d8dd8b940de6a490f14439139f4f7d25becb7e2a29df409ea2b23823b"
  },
  "kernelspec": {
   "display_name": "Python 3",
   "language": "python",
   "name": "python3"
  },
  "language_info": {
   "codemirror_mode": {
    "name": "ipython",
    "version": 3
   },
   "file_extension": ".py",
   "mimetype": "text/x-python",
   "name": "python",
   "nbconvert_exporter": "python",
   "pygments_lexer": "ipython3",
   "version": "3.8.8"
  }
 },
 "nbformat": 4,
 "nbformat_minor": 2
}
